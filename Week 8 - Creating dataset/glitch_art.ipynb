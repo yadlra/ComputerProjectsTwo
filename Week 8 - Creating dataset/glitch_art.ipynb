{
 "cells": [
  {
   "cell_type": "code",
   "execution_count": 4,
   "metadata": {},
   "outputs": [],
   "source": [
    "from PIL import Image, ImageFilter\n",
    "import random\n",
    "\n",
    "def apply_glitch(image_path, output_path):\n",
    "    \"\"\"Apply pronounced glitch effects to an image.\"\"\"\n",
    "    # Open the image\n",
    "    img = Image.open(image_path)\n",
    "\n",
    "    # Apply random glitches\n",
    "    if random.random() < 0.5:\n",
    "        # Apply aggressive filter effects\n",
    "        filters = [ImageFilter.CONTOUR, ImageFilter.EMBOSS, ImageFilter.FIND_EDGES]\n",
    "        img = img.filter(random.choice(filters))\n",
    "    else:\n",
    "        # Apply color channel shifts\n",
    "        r_shift = random.randint(-50, 50)\n",
    "        g_shift = random.randint(-50, 50)\n",
    "        b_shift = random.randint(-50, 50)\n",
    "        img = Image.merge('RGB', (\n",
    "            img.split()[0].point(lambda x: x + r_shift),\n",
    "            img.split()[1].point(lambda x: x + g_shift),\n",
    "            img.split()[2].point(lambda x: x + b_shift)\n",
    "        ))\n",
    "\n",
    "    # Save the glitched image\n",
    "    img.save(output_path)\n",
    "    img.show()\n",
    "\n",
    "# Example usage\n",
    "input_image = \"/Users/yadira/ComputerProjectsTwo/Week-8/datawalk/flowers/IMG_3395.jpeg\"\n",
    "output_image = \"/Users/yadira/ComputerProjectsTwo/Week-8/glitch_art/glitched_image.jpg\"\n",
    "apply_glitch(input_image, output_image)\n",
    "\n"
   ]
  }
 ],
 "metadata": {
  "kernelspec": {
   "display_name": "Image PR (myenv)",
   "language": "python",
   "name": "myenv"
  },
  "language_info": {
   "codemirror_mode": {
    "name": "ipython",
    "version": 3
   },
   "file_extension": ".py",
   "mimetype": "text/x-python",
   "name": "python",
   "nbconvert_exporter": "python",
   "pygments_lexer": "ipython3",
   "version": "3.7.3"
  }
 },
 "nbformat": 4,
 "nbformat_minor": 2
}
