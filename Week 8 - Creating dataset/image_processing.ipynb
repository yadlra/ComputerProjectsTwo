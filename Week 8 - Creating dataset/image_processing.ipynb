{
 "cells": [
  {
   "cell_type": "code",
   "execution_count": 14,
   "metadata": {},
   "outputs": [],
   "source": [
    "# import json\n",
    "import os\n",
    "from PIL import Image, ImageFilter, ImageOps"
   ]
  },
  {
   "cell_type": "code",
   "execution_count": 18,
   "metadata": {},
   "outputs": [],
   "source": [
    "def apply_solarize_effect(image_path, output_path, threshold=128):\n",
    "    \"\"\"Applies the solarization effect to an image and saves it.\"\"\"\n",
    "    try:\n",
    "        img = Image.open(image_path)\n",
    "        solarized_img = ImageOps.solarize(img, threshold)\n",
    "        solarized_img.save(output_path)\n",
    "        print(f\"Processed and saved: {output_path}\")\n",
    "    except Exception as e:\n",
    "        print(f\"Failed to process {image_path}: {str(e)}\")"
   ]
  },
  {
   "cell_type": "code",
   "execution_count": 19,
   "metadata": {},
   "outputs": [],
   "source": [
    "def process_directory_images(input_directory, output_directory):\n",
    "    \"\"\"Processes all images in a directory and saves the processed images to another directory.\"\"\"\n",
    "    # Ensure the output directory exists\n",
    "    os.makedirs(output_directory, exist_ok=True)\n",
    "\n",
    "    # Process each image in the directory\n",
    "    for filename in os.listdir(input_directory):\n",
    "        if filename.lower().endswith(('.png', '.jpg', '.jpeg')):\n",
    "            image_path = os.path.join(input_directory, filename)\n",
    "            output_path = os.path.join(output_directory, filename)\n",
    "            apply_solarize_effect(image_path, output_path)\n"
   ]
  },
  {
   "cell_type": "code",
   "execution_count": 20,
   "metadata": {},
   "outputs": [],
   "source": [
    "# Paths setup\n",
    "input_directory = '/Users/yadira/ComputerProjectsTwo/Week-8/datawalk/flowers'  # Input folder containing the images\n",
    "output_directory = '/Users/yadira/ComputerProjectsTwo/Week-8/processed_images/solarized_'  # Folder to save processed images"
   ]
  },
  {
   "cell_type": "code",
   "execution_count": 21,
   "metadata": {},
   "outputs": [
    {
     "name": "stdout",
     "output_type": "stream",
     "text": [
      "Processed and saved: /Users/yadira/ComputerProjectsTwo/Week-8/processed_images/solarized_/IMG_3398.jpeg\n",
      "Processed and saved: /Users/yadira/ComputerProjectsTwo/Week-8/processed_images/solarized_/IMG_3414.jpeg\n",
      "Processed and saved: /Users/yadira/ComputerProjectsTwo/Week-8/processed_images/solarized_/IMG_3394.jpeg\n",
      "Processed and saved: /Users/yadira/ComputerProjectsTwo/Week-8/processed_images/solarized_/IMG_3402.jpeg\n",
      "Processed and saved: /Users/yadira/ComputerProjectsTwo/Week-8/processed_images/solarized_/IMG_3403.jpeg\n",
      "Processed and saved: /Users/yadira/ComputerProjectsTwo/Week-8/processed_images/solarized_/IMG_3395.jpeg\n",
      "Processed and saved: /Users/yadira/ComputerProjectsTwo/Week-8/processed_images/solarized_/IMG_3415.jpeg\n",
      "Processed and saved: /Users/yadira/ComputerProjectsTwo/Week-8/processed_images/solarized_/IMG_3399.jpeg\n",
      "Processed and saved: /Users/yadira/ComputerProjectsTwo/Week-8/processed_images/solarized_/IMG_3412.jpeg\n",
      "Processed and saved: /Users/yadira/ComputerProjectsTwo/Week-8/processed_images/solarized_/IMG_3392.jpeg\n",
      "Processed and saved: /Users/yadira/ComputerProjectsTwo/Week-8/processed_images/solarized_/IMG_3404.jpeg\n",
      "Processed and saved: /Users/yadira/ComputerProjectsTwo/Week-8/processed_images/solarized_/IMG_3408.jpeg\n",
      "Processed and saved: /Users/yadira/ComputerProjectsTwo/Week-8/processed_images/solarized_/IMG_3409.jpeg\n",
      "Processed and saved: /Users/yadira/ComputerProjectsTwo/Week-8/processed_images/solarized_/IMG_3405.jpeg\n",
      "Processed and saved: /Users/yadira/ComputerProjectsTwo/Week-8/processed_images/solarized_/IMG_3393.jpeg\n",
      "Processed and saved: /Users/yadira/ComputerProjectsTwo/Week-8/processed_images/solarized_/IMG_3413.jpeg\n",
      "Processed and saved: /Users/yadira/ComputerProjectsTwo/Week-8/processed_images/solarized_/IMG_3406.jpeg\n",
      "Processed and saved: /Users/yadira/ComputerProjectsTwo/Week-8/processed_images/solarized_/IMG_3411.jpeg\n",
      "Processed and saved: /Users/yadira/ComputerProjectsTwo/Week-8/processed_images/solarized_/IMG_3407.jpeg\n",
      "Processed and saved: /Users/yadira/ComputerProjectsTwo/Week-8/processed_images/solarized_/IMG_3400.jpeg\n",
      "Processed and saved: /Users/yadira/ComputerProjectsTwo/Week-8/processed_images/solarized_/IMG_3396.jpeg\n",
      "Processed and saved: /Users/yadira/ComputerProjectsTwo/Week-8/processed_images/solarized_/IMG_3416.jpeg\n",
      "Processed and saved: /Users/yadira/ComputerProjectsTwo/Week-8/processed_images/solarized_/IMG_3397.jpeg\n",
      "Processed and saved: /Users/yadira/ComputerProjectsTwo/Week-8/processed_images/solarized_/IMG_3401.jpeg\n"
     ]
    }
   ],
   "source": [
    "# Run the image processing\n",
    "process_directory_images(input_directory, output_directory)"
   ]
  }
 ],
 "metadata": {
  "kernelspec": {
   "display_name": "Image PR (myenv)",
   "language": "python",
   "name": "myenv"
  },
  "language_info": {
   "codemirror_mode": {
    "name": "ipython",
    "version": 3
   },
   "file_extension": ".py",
   "mimetype": "text/x-python",
   "name": "python",
   "nbconvert_exporter": "python",
   "pygments_lexer": "ipython3",
   "version": "3.7.3"
  }
 },
 "nbformat": 4,
 "nbformat_minor": 2
}
