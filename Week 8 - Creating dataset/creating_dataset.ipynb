{
 "cells": [
  {
   "cell_type": "code",
   "execution_count": 12,
   "metadata": {},
   "outputs": [
    {
     "name": "stdout",
     "output_type": "stream",
     "text": [
      "Dataset created and saved to '/Users/yadira/ComputerProjectsTwo/Week-8/datawalk/dataset1.json'.\n"
     ]
    }
   ],
   "source": [
    "import os\n",
    "import json\n",
    "\n",
    "def create_dataset_json(base_path):\n",
    "    if not os.path.exists(base_path):\n",
    "        print(f\"Base path '{base_path}' does not exist.\")\n",
    "        return\n",
    "\n",
    "    dataset = []\n",
    "    id_counter = 1  # Start an ID counter for assigning unique IDs to each image\n",
    "    \n",
    "    categories = [d for d in os.listdir(base_path) if os.path.isdir(os.path.join(base_path, d))]\n",
    "    if not categories:\n",
    "        print(f\"No categories found in the base path '{base_path}'.\")\n",
    "        return\n",
    "\n",
    "    for category in categories:\n",
    "        category_path = os.path.join(base_path, category)\n",
    "        images = os.listdir(category_path)\n",
    "        for img in images:\n",
    "            if img.endswith(('.png', '.jpg', '.jpeg')):\n",
    "                image_path = os.path.abspath(os.path.join(base_path, category, img))\n",
    "                \n",
    "                # Create a dictionary for each image with all required details\n",
    "                image_data = {\n",
    "                    \"ID\": id_counter,\n",
    "                    \"Image URL\": image_path,\n",
    "                    \"Category\": category,\n",
    "                    \"Caption\": \"Describe the image here\"  # Placeholder caption\n",
    "                }\n",
    "                dataset.append(image_data)\n",
    "                id_counter += 1  # Increment the ID for the next image\n",
    "\n",
    "    if not dataset:\n",
    "        print(\"No images found to create a dataset.\")\n",
    "        return\n",
    "    \n",
    "    # Save dataset to JSON file\n",
    "    output_path = os.path.join(base_path, 'dataset1.json')\n",
    "    with open(output_path, 'w') as f:\n",
    "        json.dump(dataset, f, indent=4)\n",
    "    print(f\"Dataset created and saved to '{output_path}'.\")\n",
    "\n",
    "# Create the dataset\n",
    "create_dataset_json('/Users/yadira/Y0-Computing-Project-Two/Week 8 - Creating dataset/datawalk')\n",
    "\n",
    "\n"
   ]
  }
 ],
 "metadata": {
  "kernelspec": {
   "display_name": "Python 3",
   "language": "python",
   "name": "python3"
  },
  "language_info": {
   "codemirror_mode": {
    "name": "ipython",
    "version": 3
   },
   "file_extension": ".py",
   "mimetype": "text/x-python",
   "name": "python",
   "nbconvert_exporter": "python",
   "pygments_lexer": "ipython3",
   "version": "3.8.13"
  }
 },
 "nbformat": 4,
 "nbformat_minor": 2
}
