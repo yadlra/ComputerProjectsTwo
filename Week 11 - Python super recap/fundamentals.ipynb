{
 "cells": [
  {
   "cell_type": "markdown",
   "metadata": {},
   "source": [
    "## Learning Objectives\n",
    "\n",
    "    Understand and use basic programming concepts like variables, data types, loops, and functions.\n",
    "    Write and run simple Python programs.\n",
    "    Familiarize with fundamental CS terms and concepts to build a strong foundation for further study."
   ]
  },
  {
   "cell_type": "code",
   "execution_count": 1,
   "metadata": {},
   "outputs": [],
   "source": [
    "from IPython.display import Image, display\n"
   ]
  },
  {
   "cell_type": "markdown",
   "metadata": {},
   "source": [
    "# Basic Computer Science Concepts\n",
    "\n",
    "# Variables and Memory\n",
    "\n",
    "## How Variables Store Data in Memory\n",
    "\n",
    "     What is a Variable?\n",
    "\n",
    "A variable in programming is a named storage location that can hold a value. Think of it like a labeled box where you can store information, and you can use the label to access that information later.\n",
    "\n",
    "    Explanation:\n",
    "\n",
    "Variables are named storage locations in memory that hold data values. When a variable is created, the computer allocates a specific amount of memory to store its value. This allocation is managed by the system, and the variable serves as a reference to this memory location. Understanding this helps in grasping how data is manipulated and managed in a computer.\n",
    "\n",
    "   \n",
    "\n",
    "## 1. Declaration and Assignment\n",
    "\n",
    "\n"
   ]
  },
  {
   "cell_type": "code",
   "execution_count": null,
   "metadata": {},
   "outputs": [],
   "source": [
    "x = 10\n"
   ]
  },
  {
   "cell_type": "markdown",
   "metadata": {},
   "source": [
    "Here, x is the variable, and 10 is the value assigned to it. Python dynamically determines the type of the variable based on the value assigned.\n",
    "\n",
    "\n",
    "### 2. Memory Allocation\n",
    "\n",
    "When you assign a value to a variable, Python does the following:\n",
    "\n",
    "    Creates an Object: Python creates an object to represent the value.\n",
    "    Allocates Memory: Memory is allocated for this object.\n",
    "    Stores the Object: The value is stored in the allocated memory.\n",
    "    References the Object: The variable name (label) references this object.\n",
    "\n",
    "    Let's explore this process with an example:"
   ]
  },
  {
   "cell_type": "code",
   "execution_count": null,
   "metadata": {},
   "outputs": [],
   "source": [
    "name = \"Alice\"\n"
   ]
  },
  {
   "cell_type": "markdown",
   "metadata": {},
   "source": [
    "- Python creates a string object \"Alice\".\n",
    "- Allocates memory for the string object.\n",
    "- Stores the string \"Alice\" in memory.\n",
    "- The variable name is a reference (or label) that points to this memory location.\n",
    "\n",
    "### 3. Checking Variable's Identity and Type\n",
    "\n",
    "You can use the id() function to get the memory address of the object a variable points to, and the type() function to get the type of the object."
   ]
  },
  {
   "cell_type": "code",
   "execution_count": null,
   "metadata": {},
   "outputs": [],
   "source": [
    "print(id(name))  # Prints the memory address of the string \"Alice\"\n",
    "print(type(name))  # Prints <class 'str'>\n"
   ]
  },
  {
   "cell_type": "markdown",
   "metadata": {},
   "source": [
    "### Mutable and Immutable Types\n",
    "\n",
    "In Python, data types can be either mutable (modifiable) or immutable (non-modifiable).\n",
    "\n",
    "    **Immutable types:** Once created, their values cannot be changed. Examples include integers, floats, strings, and tuples.\n",
    "\n",
    "    **Mutable types:** Their values can be changed after creation. Examples include lists, dictionaries, and sets.\n",
    "\n",
    "#### Example of Immutable Type"
   ]
  }
 ],
 "metadata": {
  "kernelspec": {
   "display_name": "Image PR (myenv)",
   "language": "python",
   "name": "myenv"
  },
  "language_info": {
   "codemirror_mode": {
    "name": "ipython",
    "version": 3
   },
   "file_extension": ".py",
   "mimetype": "text/x-python",
   "name": "python",
   "nbconvert_exporter": "python",
   "pygments_lexer": "ipython3",
   "version": "3.7.3"
  }
 },
 "nbformat": 4,
 "nbformat_minor": 2
}
