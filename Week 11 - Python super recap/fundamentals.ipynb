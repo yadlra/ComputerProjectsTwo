{
 "cells": [
  {
   "cell_type": "markdown",
   "metadata": {},
   "source": [
    "# Basic Computer Science Concepts\n",
    "\n",
    "## Learning Objectives\n",
    "\n",
    "    Understand and use basic programming concepts like variables, data types, loops, and functions.\n",
    "    Write and run simple Python programs.\n",
    "    Familiarize with fundamental CS terms and concepts to build a strong foundation for further study."
   ]
  },
  {
   "cell_type": "markdown",
   "metadata": {},
   "source": [
    "\n",
    "# Variables and Memory\n",
    "\n",
    "## How Variables Store Data in Memory\n",
    "\n",
    "     What is a Variable?\n",
    "\n",
    "A variable in programming is a named storage location that can hold a value. Think of it like a labeled box where you can store information, and you can use the label to access that information later.\n",
    "\n",
    "    Explanation:\n",
    "\n",
    "Variables are named storage locations in memory that hold data values. When a variable is created, the computer allocates a specific amount of memory to store its value. This allocation is managed by the system, and the variable serves as a reference to this memory location. Understanding this helps in grasping how data is manipulated and managed in a computer.\n",
    "\n",
    "   \n",
    "\n",
    "## 1. Declaration and Assignment\n",
    "\n",
    "\n"
   ]
  },
  {
   "cell_type": "code",
   "execution_count": null,
   "metadata": {},
   "outputs": [],
   "source": [
    "x = 10\n"
   ]
  },
  {
   "cell_type": "markdown",
   "metadata": {},
   "source": [
    "Here, x is the variable, and 10 is the value assigned to it. Python dynamically determines the type of the variable based on the value assigned.\n",
    "\n",
    "\n",
    "### 2. Memory Allocation in Python\n",
    "\n",
    "In Python, memory management is handled by the Python Memory Manager, which is responsible for allocating and deallocating memory to various objects. This process is abstracted away from the programmer, meaning you don't need to manually manage memory allocation as you would in languages like C or C++.\n",
    "\n",
    "#### Python uses several components to manage memory:\n",
    "\n",
    "- Stack Memory: Used for static memory allocation, which includes primitive variables and function calls.\n",
    "- Heap Memory: Used for dynamic memory allocation, where all the objects and data structures (e.g., lists, dictionaries) are stored.\n",
    "\n",
    "Python's memory manager uses a private heap containing all Python objects and data structures. The management of this private heap is ensured internally by the Python memory manager.\n",
    "\n",
    "#### How Python Allocates Memory\n",
    "\n",
    "- Object Creation: When you create an object, Python allocates space on the heap for the object.\n",
    "- Reference Counting: Python keeps track of the number of references to each object in memory. When an object's reference count drops to zero, it means the object is no longer needed, and Python's garbage collector reclaims that memory.\n",
    "- Garbage Collection: Python has an automatic garbage collection mechanism that looks for objects that are no longer referenced and deallocates their memory to free up space.\n",
    "\n",
    "#### Memory Addresses\n",
    "\n",
    "When you create a variable, Python creates an object in memory, and the variable name references that memory location. You can use the id() function to retrieve the memory address of an object.\n",
    "\n",
    "Here are two diagrams to help visualize memory allocation in Python.\n",
    "\n"
   ]
  },
  {
   "cell_type": "markdown",
   "metadata": {},
   "source": [
    "1. Stack and Heap Memory"
   ]
  },
  {
   "cell_type": "code",
   "execution_count": null,
   "metadata": {},
   "outputs": [],
   "source": [
    "+---------------------+                      +------------------------+\n",
    "|      Stack Memory   |                      |        Heap Memory     |\n",
    "|---------------------|                      |------------------------|\n",
    "| - Function Calls    |                      | - Python Objects       |\n",
    "| - Local Variables   |                      |   (ints, lists, etc.)  |\n",
    "+---------------------+                      +------------------------+\n"
   ]
  },
  {
   "cell_type": "markdown",
   "metadata": {},
   "source": [
    "2. Reference to Memory Address\n",
    "\n",
    "Variable Assignment: "
   ]
  },
  {
   "cell_type": "code",
   "execution_count": null,
   "metadata": {},
   "outputs": [],
   "source": [
    "\n",
    "    \n",
    "    x = 10\n",
    "\n",
    "+-------------+         +------------------+\n",
    "| Variable    |         | Memory Address   |\n",
    "+-------------+         +------------------+\n",
    "| x           |  --->   | 10 (Object)      |\n",
    "+-------------+         +------------------+\n"
   ]
  },
  {
   "cell_type": "code",
   "execution_count": null,
   "metadata": {},
   "outputs": [],
   "source": [
    "x = 10"
   ]
  },
  {
   "cell_type": "markdown",
   "metadata": {},
   "source": [
    "When x = 10 is executed, Python:\n",
    "\n",
    "    Creates an integer object 10 in heap memory.\n",
    "    Assigns a reference to this object to the variable x in stack memory."
   ]
  },
  {
   "cell_type": "code",
   "execution_count": 4,
   "metadata": {},
   "outputs": [],
   "source": [
    "name = \"Alice\"\n"
   ]
  },
  {
   "cell_type": "markdown",
   "metadata": {},
   "source": [
    "- Python creates a string object \"Alice\".\n",
    "- Allocates memory for the string object.\n",
    "- Stores the string \"Alice\" in memory.\n",
    "- The variable name is a reference (or label) that points to this memory location.\n",
    "\n",
    "### 3. Checking Variable's Identity and Type\n",
    "\n",
    "You can use the id() function to get the memory address of the object a variable points to, and the type() function to get the type of the object."
   ]
  },
  {
   "cell_type": "code",
   "execution_count": 3,
   "metadata": {},
   "outputs": [
    {
     "name": "stdout",
     "output_type": "stream",
     "text": [
      "4614049440\n",
      "<class 'str'>\n"
     ]
    }
   ],
   "source": [
    "print(id(name))  # Prints the memory address of the string \"Alice\"\n",
    "print(type(name))  # Prints <class 'str'>\n"
   ]
  },
  {
   "cell_type": "markdown",
   "metadata": {},
   "source": [
    "### Mutable and Immutable Types\n",
    "\n",
    "In Python, data types can be either mutable (modifiable) or immutable (non-modifiable).\n",
    "\n",
    "  1. Immutable types: Once created, their values cannot be changed. Examples include integers, floats, strings, and tuples.\n",
    "\n",
    "  2. Mutable types: Their values can be changed after creation. Examples include lists, dictionaries, and sets.\n",
    "\n",
    "#### Example of Immutable Type"
   ]
  },
  {
   "cell_type": "code",
   "execution_count": 1,
   "metadata": {},
   "outputs": [
    {
     "name": "stdout",
     "output_type": "stream",
     "text": [
      "4526757952\n",
      "4526758112\n"
     ]
    }
   ],
   "source": [
    "a = 5\n",
    "print(id(a))  \n",
    "\n",
    "a = 10\n",
    "print(id(a)) \n"
   ]
  },
  {
   "cell_type": "markdown",
   "metadata": {},
   "source": [
    "Here, a was initially pointing to the memory location containing 5. \n",
    "\n",
    "When we assigned 10 to a, Python created a new object for 10 and a now references the new memory location. \n",
    "\n",
    "The original 5 object is not modified but remains in memory until Python's garbage collector removes it if it is no longer referenced."
   ]
  },
  {
   "cell_type": "markdown",
   "metadata": {},
   "source": [
    "#### Example of Mutable Type"
   ]
  },
  {
   "cell_type": "code",
   "execution_count": null,
   "metadata": {},
   "outputs": [],
   "source": [
    "my_list = [1, 2, 3]\n",
    "print(id(my_list))  # What does it print?\n",
    "\n",
    "my_list.append(4)\n",
    "print(id(my_list))  # Print it and let's see\n"
   ]
  },
  {
   "cell_type": "markdown",
   "metadata": {},
   "source": [
    "Here, my_list is a list (mutable type). \n",
    "\n",
    "Adding a new element to the list does not change the memory address. \n",
    "\n",
    "The list object itself is modified, but the variable still references the same memory location."
   ]
  },
  {
   "cell_type": "markdown",
   "metadata": {},
   "source": [
    "### Let's visualise it further\n",
    "\n",
    "To visualize this, imagine the following:\n",
    "\n",
    "    1. You create a variable x = 10. Python creates an integer object 10 and x points to its memory location.\n",
    "    2. You change x to 20. Python creates a new integer object 20 and updates x to point to the new memory location.\n",
    "    3. You create a list my_list = [1, 2, 3]. Python creates a list object and my_list points to its memory location.\n",
    "    4. You modify the list with my_list.append(4). The list is updated in place; my_list still points to the same memory location.\n",
    "\n",
    "#### Practical Example with memory addresses"
   ]
  },
  {
   "cell_type": "code",
   "execution_count": 2,
   "metadata": {},
   "outputs": [
    {
     "name": "stdout",
     "output_type": "stream",
     "text": [
      "a: 10, id(a): 4526758112, type(a): <class 'int'>\n",
      "a: 20, id(a): 4526758432, type(a): <class 'int'>\n",
      "name: Alice, id(name): 4614049440, type(name): <class 'str'>\n",
      "my_list: [1, 2, 3], id(my_list): 4569772744, type(my_list): <class 'list'>\n",
      "my_list: [1, 2, 3, 4], id(my_list): 4569772744, type(my_list): <class 'list'>\n"
     ]
    }
   ],
   "source": [
    "# Integer assignment\n",
    "a = 10\n",
    "print(f\"a: {a}, id(a): {id(a)}, type(a): {type(a)}\")\n",
    "\n",
    "# Reassigning the integer\n",
    "a = 20\n",
    "print(f\"a: {a}, id(a): {id(a)}, type(a): {type(a)}\")\n",
    "\n",
    "# String assignment\n",
    "name = \"Alice\"\n",
    "print(f\"name: {name}, id(name): {id(name)}, type(name): {type(name)}\")\n",
    "\n",
    "# List assignment (mutable type)\n",
    "my_list = [1, 2, 3]\n",
    "print(f\"my_list: {my_list}, id(my_list): {id(my_list)}, type(my_list): {type(my_list)}\")\n",
    "\n",
    "# Modifying the list\n",
    "my_list.append(4)\n",
    "print(f\"my_list: {my_list}, id(my_list): {id(my_list)}, type(my_list): {type(my_list)}\")\n"
   ]
  },
  {
   "cell_type": "markdown",
   "metadata": {},
   "source": [
    "This script assigns values to variables, reassigns them, and modifies a list, printing the memory address (id), value, and type (type) of each variable at each step. \n",
    "\n",
    "This helps illustrate how variables in Python store data in memory and how this changes (or doesn't) when the data is modified."
   ]
  }
 ],
 "metadata": {
  "kernelspec": {
   "display_name": "Image PR (myenv)",
   "language": "python",
   "name": "myenv"
  },
  "language_info": {
   "codemirror_mode": {
    "name": "ipython",
    "version": 3
   },
   "file_extension": ".py",
   "mimetype": "text/x-python",
   "name": "python",
   "nbconvert_exporter": "python",
   "pygments_lexer": "ipython3",
   "version": "3.7.3"
  }
 },
 "nbformat": 4,
 "nbformat_minor": 2
}
