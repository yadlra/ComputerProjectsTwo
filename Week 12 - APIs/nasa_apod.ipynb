{
 "cells": [
  {
   "cell_type": "markdown",
   "metadata": {},
   "source": [
    "## APOD\n",
    "\n",
    "One of the most popular websites at NASA is the Astronomy Picture of the Day. In fact, this website is one of the most popular websites across all federal agencies in the US.\n",
    "\n",
    "[NASA Website](https://api.nasa.gov/)"
   ]
  },
  {
   "cell_type": "markdown",
   "metadata": {},
   "source": [
    "Import Libraries: \n",
    "\n",
    "The `requests` library is used for making API calls, \n",
    "and `IPython.display` for displaying images and videos."
   ]
  },
  {
   "cell_type": "code",
   "execution_count": 32,
   "metadata": {},
   "outputs": [],
   "source": [
    "import requests\n",
    "from IPython.display import display, Image, Video, Markdown\n",
    "import json\n",
    "import os"
   ]
  },
  {
   "cell_type": "markdown",
   "metadata": {},
   "source": [
    "NASA APOD API endpoint"
   ]
  },
  {
   "cell_type": "code",
   "execution_count": 33,
   "metadata": {},
   "outputs": [],
   "source": [
    "\n",
    "apod_url = \"https://api.nasa.gov/planetary/apod\""
   ]
  },
  {
   "cell_type": "code",
   "execution_count": 34,
   "metadata": {},
   "outputs": [],
   "source": [
    "# Function to get NASA Photo of the Day\n",
    "def get_photo_of_the_day():\n",
    "    params = {'api_key': 'DEMO_KEY'}  # Use 'DEMO_KEY' if no actual key is needed\n",
    "    response = requests.get(apod_url, params=params)\n",
    "    if response.status_code == 200:\n",
    "        return response.json()\n",
    "    else:\n",
    "        print(f\"Failed to retrieve photo of the day, status code: {response.status_code}\")\n",
    "        return None"
   ]
  },
  {
   "cell_type": "code",
   "execution_count": 35,
   "metadata": {},
   "outputs": [],
   "source": [
    "# Function to load existing APOD data from JSON file\n",
    "def load_apod_data():\n",
    "    if os.path.exists('apod_data.json'):\n",
    "        with open('apod_data.json', 'r') as f:\n",
    "            return json.load(f)\n",
    "    return []"
   ]
  },
  {
   "cell_type": "code",
   "execution_count": 36,
   "metadata": {},
   "outputs": [],
   "source": [
    "# Function to save APOD data to JSON file\n",
    "def save_apod_data(apod_data):\n",
    "    with open('apod_data.json', 'w') as f:\n",
    "        json.dump(apod_data, f)"
   ]
  },
  {
   "cell_type": "code",
   "execution_count": 37,
   "metadata": {},
   "outputs": [],
   "source": [
    "# Load existing APOD data\n",
    "apod_data = load_apod_data()"
   ]
  },
  {
   "cell_type": "code",
   "execution_count": 38,
   "metadata": {},
   "outputs": [],
   "source": [
    "# Fetch today's APOD data\n",
    "today_apod = get_photo_of_the_day()"
   ]
  },
  {
   "cell_type": "code",
   "execution_count": 39,
   "metadata": {},
   "outputs": [
    {
     "data": {
      "text/markdown": [
       "### Today's APOD has already been fetched and stored."
      ],
      "text/plain": [
       "<IPython.core.display.Markdown object>"
      ]
     },
     "metadata": {},
     "output_type": "display_data"
    }
   ],
   "source": [
    "# Check if today's APOD is already in the stored data\n",
    "if today_apod and all(entry['date'] != today_apod['date'] for entry in apod_data):\n",
    "    apod_data.append(today_apod)\n",
    "    save_apod_data(apod_data)\n",
    "    display(Markdown(\"### New APOD fetched and stored.\"))\n",
    "else:\n",
    "    display(Markdown(\"### Today's APOD has already been fetched and stored.\"))\n"
   ]
  },
  {
   "cell_type": "code",
   "execution_count": 42,
   "metadata": {},
   "outputs": [
    {
     "data": {
      "text/markdown": [
       "## Solar X Flare as Famous Active Region Returns"
      ],
      "text/plain": [
       "<IPython.core.display.Markdown object>"
      ]
     },
     "metadata": {},
     "output_type": "display_data"
    },
    {
     "data": {
      "text/markdown": [
       "**Date:** 2024-05-28"
      ],
      "text/plain": [
       "<IPython.core.display.Markdown object>"
      ]
     },
     "metadata": {},
     "output_type": "display_data"
    },
    {
     "data": {
      "text/markdown": [
       "**Explanation:** It's back. The famous active region on the Sun that created auroras visible around the Earth earlier this month has survived its rotation around the far side of the Sun -- and returned.  Yesterday, as it was beginning to reappear on the Earth-facing side, the region formerly labeled AR 3664 threw another major solar flare, again in the highest-energy X-class range. The featured video shows the emerging active region on the lower left, as it was captured by NASA's Earth-orbiting Solar Dynamics Observatory yesterday in ultraviolet light. The video is a time-lapse of the entire Sun rotating over 24 hours.  Watch the lower-left region carefully at about the 2-second mark to see the powerful flare burst out. The energetic particles from that flare and associated CME are not expected to directly impact the Earth and trigger impressive auroras, but scientists will keep a close watch on this unusually active region over the next two weeks, as it faces the Earth, to see what develops."
      ],
      "text/plain": [
       "<IPython.core.display.Markdown object>"
      ]
     },
     "metadata": {},
     "output_type": "display_data"
    },
    {
     "data": {
      "text/markdown": [
       "[Watch Video](https://www.youtube.com/embed/yt7uwWzSTw0?rel=0)"
      ],
      "text/plain": [
       "<IPython.core.display.Markdown object>"
      ]
     },
     "metadata": {},
     "output_type": "display_data"
    },
    {
     "data": {
      "text/markdown": [
       "---"
      ],
      "text/plain": [
       "<IPython.core.display.Markdown object>"
      ]
     },
     "metadata": {},
     "output_type": "display_data"
    }
   ],
   "source": [
    "# Display today's APOD data (whether newly fetched or from storage)\n",
    "latest_apod = apod_data[-1]  # Get the latest APOD entry\n",
    "title = latest_apod['title']\n",
    "date = latest_apod['date']\n",
    "explanation = latest_apod['explanation']\n",
    "media_type = latest_apod['media_type']\n",
    "url = latest_apod['url']\n",
    "\n",
    "display(Markdown(f\"## {title}\"))\n",
    "display(Markdown(f\"**Date:** {date}\"))\n",
    "display(Markdown(f\"**Explanation:** {explanation}\"))\n",
    "\n",
    "if media_type == \"video\":\n",
    "    display(Markdown(f\"[Watch Video]({url})\"))  # Embeds the video link\n",
    "else:\n",
    "    display(Image(url=url))\n",
    "\n",
    "display(Markdown(\"---\"))\n"
   ]
  },
  {
   "cell_type": "markdown",
   "metadata": {},
   "source": [
    "## Instructions:\n",
    "\n",
    "**Run the Notebook Daily:** Each day, run the notebook to fetch the APOD data. The script ensures the data is fetched only once per day and stores it in a JSON file.\n",
    "\n",
    "\n",
    "**View and Save Data:** The notebook will automatically append the new APOD data to the JSON file and display it.\n",
    "\n",
    "\n",
    "**Complete the Personal Inquiry:** After collecting the data for 5 days, choose your favorite APOD and write a brief explanation in the \"Personal Inquiry\" section."
   ]
  },
  {
   "cell_type": "markdown",
   "metadata": {},
   "source": [
    "## Personal Inquiry\n",
    "### My favorite NASA Picture of the Day is:\n",
    "\n",
    "\n"
   ]
  }
 ],
 "metadata": {
  "kernelspec": {
   "display_name": "Python 3",
   "language": "python",
   "name": "python3"
  },
  "language_info": {
   "codemirror_mode": {
    "name": "ipython",
    "version": 3
   },
   "file_extension": ".py",
   "mimetype": "text/x-python",
   "name": "python",
   "nbconvert_exporter": "python",
   "pygments_lexer": "ipython3",
   "version": "3.8.13"
  }
 },
 "nbformat": 4,
 "nbformat_minor": 2
}
