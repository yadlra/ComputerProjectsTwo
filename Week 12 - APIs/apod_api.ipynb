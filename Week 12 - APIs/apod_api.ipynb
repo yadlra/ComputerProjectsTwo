{
 "cells": [
  {
   "cell_type": "markdown",
   "metadata": {},
   "source": [
    "## Astronomy Picture Of the Day \n",
    "\n",
    "One of the most popular websites at NASA is the Astronomy Picture of the Day. In fact, this website is one of the most popular websites across all federal agencies in the US.\n",
    "\n",
    "We are using NASA API to make calls and fetch the APOD data.\n",
    "\n",
    "[NASA Website](https://api.nasa.gov/)"
   ]
  },
  {
   "cell_type": "markdown",
   "metadata": {},
   "source": [
    "## What's an API?\n",
    "\n",
    "An API (Application Programming Interface) is a set of rules and definitions that allows different software applications to communicate with each other.\n",
    "\n",
    "\n",
    "When interacting with the NASA APOD (Astronomy Picture of the Day) API, you are using an HTTP API.\n",
    "\n",
    "### What is an HTTP API?\n",
    "\n",
    "An HTTP API is an Application Programming Interface that uses the HyperText Transfer Protocol (HTTP) to communicate between a client and a server. HTTP APIs are commonly used for web services and are designed to facilitate the transfer of data over the web."
   ]
  },
  {
   "cell_type": "markdown",
   "metadata": {},
   "source": [
    "### How the NASA APOD API Works\n",
    "\n",
    "The NASA APOD API allows developers to retrieve the Astronomy Picture of the Day along with its metadata (such as the title, explanation, and media type) by making HTTP requests to specific endpoints provided by NASA.\n",
    "\n",
    "### Key Characteristics of the NASA APOD API:\n",
    "\n",
    "**Endpoint:** The URL where the API can be accessed (e.g., https://api.nasa.gov/planetary/apod).\n",
    "\n",
    "\n",
    "**HTTP Methods:** The types of HTTP requests that can be made (e.g., GET).\n",
    "\n",
    "\n",
    "**Query Parameters:** Parameters passed in the URL to customize the request (e.g., api_key)."
   ]
  },
  {
   "cell_type": "markdown",
   "metadata": {},
   "source": [
    "Here's a typical HTTP GET request to the NASA APOD API:\n",
    "\n",
    "GET https://api.nasa.gov/planetary/apod?api_key=YOUR_API_KEY\n"
   ]
  },
  {
   "cell_type": "markdown",
   "metadata": {},
   "source": [
    "#### Python Example\n",
    "\n",
    "Using Python and the requests library, you can make an HTTP GET request to fetch data from the NASA APOD API:"
   ]
  },
  {
   "cell_type": "code",
   "execution_count": 1,
   "metadata": {},
   "outputs": [],
   "source": [
    "import requests\n",
    "from IPython.display import display, Image, Video, Markdown\n",
    "import json\n",
    "from datetime import datetime\n",
    "\n"
   ]
  },
  {
   "cell_type": "code",
   "execution_count": 2,
   "metadata": {},
   "outputs": [],
   "source": [
    "# File path to the JSON dataset\n",
    "file_path = 'my_collection.json'"
   ]
  },
  {
   "cell_type": "markdown",
   "metadata": {},
   "source": [
    "Function to Load Existing Dataset"
   ]
  },
  {
   "cell_type": "code",
   "execution_count": 3,
   "metadata": {},
   "outputs": [],
   "source": [
    "def load_dataset(file_path):\n",
    "    try:\n",
    "        with open(file_path, 'r') as file:\n",
    "            return json.load(file)\n",
    "    except FileNotFoundError:\n",
    "        return []"
   ]
  },
  {
   "cell_type": "markdown",
   "metadata": {},
   "source": [
    "Function to Save Updated Dataset\n"
   ]
  },
  {
   "cell_type": "code",
   "execution_count": 4,
   "metadata": {},
   "outputs": [],
   "source": [
    "def save_dataset(file_path, data):\n",
    "    with open(file_path, 'w') as file:\n",
    "        json.dump(data, file, indent=4)\n"
   ]
  },
  {
   "cell_type": "markdown",
   "metadata": {},
   "source": [
    "Function to Fetch Data from NASA API"
   ]
  },
  {
   "cell_type": "code",
   "execution_count": 5,
   "metadata": {},
   "outputs": [],
   "source": [
    "def fetch_nasa_apod(api_key):\n",
    "    url = f\"https://api.nasa.gov/planetary/apod?api_key={api_key}\"\n",
    "    response = requests.get(url)\n",
    "    if response.status_code == 200:\n",
    "        return response.json()\n",
    "    else:\n",
    "        raise Exception(f\"API request failed with status code {response.status_code}\")\n",
    "\n",
    "# Your NASA API key\n",
    "api_key = 'DEMO_KEY'  # Replace with your actual API key\n"
   ]
  },
  {
   "cell_type": "markdown",
   "metadata": {},
   "source": [
    "- The requests.get method is used to make an HTTP GET request to the NASA APOD API.\n",
    "\n",
    "- The response from the API is checked for a successful status code (200) and then processed as JSON data."
   ]
  },
  {
   "cell_type": "markdown",
   "metadata": {},
   "source": [
    "Update Dataset with New Data"
   ]
  },
  {
   "cell_type": "code",
   "execution_count": 6,
   "metadata": {},
   "outputs": [],
   "source": [
    "def update_dataset(file_path, new_data):\n",
    "    # Load existing data\n",
    "    data = load_dataset(file_path)\n",
    "    \n",
    "    # Check if new_data's date already exists in the dataset\n",
    "    dates = [entry['date'] for entry in data]\n",
    "    if new_data['date'] not in dates:\n",
    "        # Append new data to the dataset\n",
    "        data.append(new_data)\n",
    "        # Save updated dataset back to the file\n",
    "        save_dataset(file_path, data)\n",
    "        print(f\"Data for {new_data['date']} added.\")\n",
    "    else:\n",
    "        print(f\"Data for {new_data['date']} already exists. No update needed.\")\n"
   ]
  },
  {
   "cell_type": "markdown",
   "metadata": {},
   "source": [
    "Main execution block to fetch and store data"
   ]
  },
  {
   "cell_type": "code",
   "execution_count": 7,
   "metadata": {},
   "outputs": [
    {
     "name": "stdout",
     "output_type": "stream",
     "text": [
      "Data for 2024-05-29 added.\n"
     ]
    }
   ],
   "source": [
    "# Fetch new data from the NASA API\n",
    "new_data = fetch_nasa_apod(api_key)\n",
    "\n",
    "# Update the dataset with the new data\n",
    "update_dataset(file_path, new_data)\n"
   ]
  },
  {
   "cell_type": "markdown",
   "metadata": {},
   "source": [
    "Display the Latest Astronomy Picture of the Day (APOD)"
   ]
  },
  {
   "cell_type": "code",
   "execution_count": 8,
   "metadata": {},
   "outputs": [
    {
     "data": {
      "text/markdown": [
       "## Stairway to the Milky Way"
      ],
      "text/plain": [
       "<IPython.core.display.Markdown object>"
      ]
     },
     "metadata": {},
     "output_type": "display_data"
    },
    {
     "data": {
      "text/markdown": [
       "**Date:** 2024-05-29"
      ],
      "text/plain": [
       "<IPython.core.display.Markdown object>"
      ]
     },
     "metadata": {},
     "output_type": "display_data"
    },
    {
     "data": {
      "text/markdown": [
       "**Explanation:** What happens if you ascend this stairway to the Milky Way? Before answering that, let's understand the beautiful sky you will see.  Most eye-catching is the grand arch of the Milky Way Galaxy, the band that is the central disk of our galaxy which is straight but distorted by the wide-angle nature of this composite image.  Many stars well in front of the Milk Way will be visible, with the bright white star just below the stellar arch being Altair, and the bright blue star above it being Vega.  The air glows green on the left, just above the yellow cloud deck.  The featured image was taken last month on Portugal's Madeira Island in the North Atlantic Ocean.  Oh, and what happens after you reach the top of these stairs and admire the amazing sky is, quite probably, that you then descend down the stairs on the other side.   Your Sky Surprise: What picture did APOD feature on your birthday? (post 1995)"
      ],
      "text/plain": [
       "<IPython.core.display.Markdown object>"
      ]
     },
     "metadata": {},
     "output_type": "display_data"
    },
    {
     "data": {
      "text/html": [
       "<img src=\"https://apod.nasa.gov/apod/image/2405/StairwayToMilkyway_Marcin_1080.jpg\"/>"
      ],
      "text/plain": [
       "<IPython.core.display.Image object>"
      ]
     },
     "metadata": {},
     "output_type": "display_data"
    },
    {
     "data": {
      "text/markdown": [
       "---"
      ],
      "text/plain": [
       "<IPython.core.display.Markdown object>"
      ]
     },
     "metadata": {},
     "output_type": "display_data"
    }
   ],
   "source": [
    "# Load the updated dataset\n",
    "apod_data = load_dataset(file_path)\n",
    "\n",
    "# Display today's APOD data (whether newly fetched or from storage)\n",
    "latest_apod = apod_data[-1]  # Get the latest APOD entry\n",
    "title = latest_apod['title']\n",
    "date = latest_apod['date']\n",
    "explanation = latest_apod['explanation']\n",
    "media_type = latest_apod['media_type']\n",
    "url = latest_apod['url']\n",
    "\n",
    "display(Markdown(f\"## {title}\"))\n",
    "display(Markdown(f\"**Date:** {date}\"))\n",
    "display(Markdown(f\"**Explanation:** {explanation}\"))\n",
    "\n",
    "if media_type == \"video\":\n",
    "    display(Markdown(f\"[Watch Video]({url})\"))  # Embeds the video link\n",
    "else:\n",
    "    display(Image(url=url))\n",
    "\n",
    "display(Markdown(\"---\"))\n"
   ]
  },
  {
   "cell_type": "markdown",
   "metadata": {},
   "source": [
    "## Instructions:\n",
    "\n",
    "**Run the Notebook daily:** Each day for 3 days, run the notebook to fetch the APOD data. The script ensures the data is fetched only once per day and stores it in a JSON file.\n",
    "\n",
    "\n",
    "**View and save data:** The notebook will automatically append the new APOD data to the JSON file and display it.\n",
    "\n",
    "\n",
    "**Complete the personal inquiry:** After collecting the data for 3 days, choose your favorite APOD and write a brief explanation in the \"Personal Inquiry\" section."
   ]
  },
  {
   "cell_type": "markdown",
   "metadata": {},
   "source": [
    "## Personal Inquiry\n",
    "### My favorite NASA Picture of the Day is:"
   ]
  }
 ],
 "metadata": {
  "kernelspec": {
   "display_name": "Python 3",
   "language": "python",
   "name": "python3"
  },
  "language_info": {
   "codemirror_mode": {
    "name": "ipython",
    "version": 3
   },
   "file_extension": ".py",
   "mimetype": "text/x-python",
   "name": "python",
   "nbconvert_exporter": "python",
   "pygments_lexer": "ipython3",
   "version": "3.8.8"
  }
 },
 "nbformat": 4,
 "nbformat_minor": 2
}
