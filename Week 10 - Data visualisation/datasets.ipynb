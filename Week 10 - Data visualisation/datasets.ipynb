{
 "cells": [
  {
   "cell_type": "code",
   "execution_count": 2,
   "metadata": {},
   "outputs": [],
   "source": [
    "import json\n",
    "import csv\n",
    "\n",
    "# Open the JSON file and load the data\n",
    "with open('dataset.json', 'r') as file:\n",
    "    data = json.load(file)\n",
    "\n",
    "# Open a file for writing the CSV data\n",
    "with open('images.csv', 'w', newline='') as file:\n",
    "    csv_writer = csv.writer(file)\n",
    "    \n",
    "    # Write the headers (assuming all dictionaries have the same structure)\n",
    "    if data:\n",
    "        csv_writer.writerow(data[0].keys())\n",
    "    \n",
    "    # Write the data rows\n",
    "    for item in data:\n",
    "        csv_writer.writerow(item.values())\n"
   ]
  }
 ],
 "metadata": {
  "kernelspec": {
   "display_name": "Image PR (myenv)",
   "language": "python",
   "name": "myenv"
  },
  "language_info": {
   "codemirror_mode": {
    "name": "ipython",
    "version": 3
   },
   "file_extension": ".py",
   "mimetype": "text/x-python",
   "name": "python",
   "nbconvert_exporter": "python",
   "pygments_lexer": "ipython3",
   "version": "3.7.3"
  }
 },
 "nbformat": 4,
 "nbformat_minor": 2
}
