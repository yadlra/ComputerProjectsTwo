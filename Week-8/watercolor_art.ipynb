{
 "cells": [
  {
   "cell_type": "code",
   "execution_count": 2,
   "metadata": {},
   "outputs": [],
   "source": [
    "from PIL import Image, ImageFilter"
   ]
  },
  {
   "cell_type": "code",
   "execution_count": 3,
   "metadata": {},
   "outputs": [],
   "source": [
    "# Replace \"path/to/your/image.jpg\" with the actual path to your image\n",
    "image = Image.open(\"/Users/yadira/ComputerProjectsTwo/Week-8/datawalk/flowers/IMG_3405.jpeg\")"
   ]
  },
  {
   "cell_type": "markdown",
   "metadata": {},
   "source": [
    "Apply Blurring:\n",
    "\n",
    "Watercolor paintings have a soft, diffused look. We can achieve this by applying a blur filter. Pillow offers various blur filters:\n",
    "\n",
    "    Gaussian Blur: This is a common choice for watercolor effects, smoothing out details."
   ]
  },
  {
   "cell_type": "code",
   "execution_count": 4,
   "metadata": {},
   "outputs": [],
   "source": [
    "blurred_image = image.filter(ImageFilter.GaussianBlur(radius=5))  # Adjust radius for blur intensity\n"
   ]
  },
  {
   "cell_type": "markdown",
   "metadata": {},
   "source": [
    "    Box Blur: This creates a blocky blur, mimicking a painting style.\n",
    "\n"
   ]
  },
  {
   "cell_type": "code",
   "execution_count": 5,
   "metadata": {},
   "outputs": [],
   "source": [
    "# Example of Box Blur\n",
    "blurred_image = image.filter(ImageFilter.BoxBlur(radius=3))"
   ]
  },
  {
   "cell_type": "markdown",
   "metadata": {},
   "source": [
    "Reduce Color Saturation:\n",
    "\n",
    "Watercolors are known for their soft colors. You can achieve this by reducing the image's color saturation."
   ]
  },
  {
   "cell_type": "code",
   "execution_count": 7,
   "metadata": {},
   "outputs": [],
   "source": [
    "# Convert the image to HSV color space\n",
    "hsv_image = image.convert('HSV')\n",
    "\n",
    "# Extract the Hue (H), Saturation (S), and Value (V) channels\n",
    "h, s, v = hsv_image.split()\n",
    "\n",
    "# Reduce saturation by multiplying with a factor (0.0 - grayscale, 1.0 - original)\n",
    "saturation_factor = 0.5\n",
    "new_s = s.point(lambda i: i * saturation_factor)\n",
    "\n",
    "# Recombine the modified channels back into HSV format\n",
    "modified_hsv_image = Image.merge('HSV', (h, new_s, v))\n",
    "\n",
    "# Convert back to RGB color space for final image\n",
    "desaturated_image = modified_hsv_image.convert('RGB')"
   ]
  },
  {
   "cell_type": "code",
   "execution_count": null,
   "metadata": {},
   "outputs": [],
   "source": [
    "desaturated_image.save(\"watercolor_effect.jpg\")  # Replace with your desired filename\n"
   ]
  }
 ],
 "metadata": {
  "kernelspec": {
   "display_name": "Image PR (myenv)",
   "language": "python",
   "name": "myenv"
  },
  "language_info": {
   "codemirror_mode": {
    "name": "ipython",
    "version": 3
   },
   "file_extension": ".py",
   "mimetype": "text/x-python",
   "name": "python",
   "nbconvert_exporter": "python",
   "pygments_lexer": "ipython3",
   "version": "3.7.3"
  }
 },
 "nbformat": 4,
 "nbformat_minor": 2
}
