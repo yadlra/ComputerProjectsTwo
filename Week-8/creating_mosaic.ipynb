{
 "cells": [
  {
   "cell_type": "code",
   "execution_count": 2,
   "metadata": {},
   "outputs": [
    {
     "name": "stdout",
     "output_type": "stream",
     "text": [
      "Mosaic for art created at /Users/yadira/ComputerProjectsTwo/Week-8/art_mosaic.jpg\n",
      "Mosaic for flowers created at /Users/yadira/ComputerProjectsTwo/Week-8/flowers_mosaic.jpg\n",
      "Mosaic for infrastructure created at /Users/yadira/ComputerProjectsTwo/Week-8/infrastructure_mosaic.jpg\n"
     ]
    }
   ],
   "source": [
    "import json\n",
    "from PIL import Image\n",
    "import os\n",
    "\n",
    "def load_images(data):\n",
    "    \"\"\"Load images based on JSON entries.\"\"\"\n",
    "    images = {}\n",
    "    for entry in data:\n",
    "        category = entry[\"Category\"]\n",
    "        img_path = entry[\"Image URL\"]\n",
    "        if os.path.exists(img_path):  # Ensure the image exists\n",
    "            if category not in images:\n",
    "                images[category] = []\n",
    "            images[category].append(Image.open(img_path))\n",
    "    return images\n",
    "\n",
    "def create_mosaic(images, output_path, grid_size=(5, 5)):\n",
    "    \"\"\"Create a mosaic from a list of images.\"\"\"\n",
    "    if not images:\n",
    "        raise ValueError(\"No images to create mosaic.\")\n",
    "    img_width, img_height = images[0].size\n",
    "    mosaic = Image.new('RGB', (img_width * grid_size[0], img_height * grid_size[1]))\n",
    "    \n",
    "    for i, img in enumerate(images):\n",
    "        row, col = divmod(i, grid_size[0])\n",
    "        if row < grid_size[1]:  # Only add images if within grid size\n",
    "            mosaic.paste(img, (col * img_width, row * img_height))\n",
    "    \n",
    "    mosaic.save(output_path)\n",
    "\n",
    "# Load JSON data\n",
    "with open('/Users/yadira/ComputerProjectsTwo/Week-8/datawalk/dataset.json', 'r') as file:\n",
    "    data = json.load(file)\n",
    "\n",
    "# Load images grouped by category\n",
    "grouped_images = load_images(data)\n",
    "\n",
    "# Create a mosaic for each category\n",
    "for category, imgs in grouped_images.items():\n",
    "    output_path = f'/Users/yadira/ComputerProjectsTwo/Week-8/{category}_mosaic.jpg'\n",
    "    create_mosaic(imgs, output_path)\n",
    "    print(f\"Mosaic for {category} created at {output_path}\")\n"
   ]
  }
 ],
 "metadata": {
  "kernelspec": {
   "display_name": "Image PR (myenv)",
   "language": "python",
   "name": "myenv"
  },
  "language_info": {
   "codemirror_mode": {
    "name": "ipython",
    "version": 3
   },
   "file_extension": ".py",
   "mimetype": "text/x-python",
   "name": "python",
   "nbconvert_exporter": "python",
   "pygments_lexer": "ipython3",
   "version": "3.7.3"
  }
 },
 "nbformat": 4,
 "nbformat_minor": 2
}
