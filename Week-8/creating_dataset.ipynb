{
 "cells": [
  {
   "cell_type": "code",
   "execution_count": 4,
   "metadata": {},
   "outputs": [],
   "source": [
    "import os\n",
    "import json\n",
    "\n",
    "def create_dataset_json(base_path):\n",
    "    dataset = []\n",
    "    id_counter = 1  # Start an ID counter for assigning unique IDs to each image\n",
    "    \n",
    "    categories = [d for d in os.listdir(base_path) if os.path.isdir(os.path.join(base_path, d))]\n",
    "    for category in categories:\n",
    "        images = os.listdir(os.path.join(base_path, category))\n",
    "        for img in images:\n",
    "            if img.endswith(('.png', '.jpg', '.jpeg')):\n",
    "                image_path = os.path.join(category, img)\n",
    "                # Create a dictionary for each image with all required details\n",
    "                image_data = {\n",
    "                    \"ID\": id_counter,\n",
    "                    \"Image URL\": os.path.join(base_path, image_path),\n",
    "                    \"Category\": category,\n",
    "                    \"Caption\": \"Describe the image here\"  # Placeholder caption\n",
    "                }\n",
    "                dataset.append(image_data)\n",
    "                id_counter += 1  # Increment the ID for the next image\n",
    "    \n",
    "    # Save dataset to JSON file\n",
    "    with open(os.path.join(base_path, 'dataset.json'), 'w') as f:\n",
    "        json.dump(dataset, f, indent=4)\n",
    "\n",
    "create_dataset_json('/Users/yadira/ComputerProjectsTwo/Week-8/datawalk')\n",
    "\n"
   ]
  }
 ],
 "metadata": {
  "kernelspec": {
   "display_name": "Image PR (myenv)",
   "language": "python",
   "name": "myenv"
  },
  "language_info": {
   "codemirror_mode": {
    "name": "ipython",
    "version": 3
   },
   "file_extension": ".py",
   "mimetype": "text/x-python",
   "name": "python",
   "nbconvert_exporter": "python",
   "pygments_lexer": "ipython3",
   "version": "3.7.3"
  }
 },
 "nbformat": 4,
 "nbformat_minor": 2
}
